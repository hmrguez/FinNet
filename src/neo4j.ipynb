{
 "cells": [
  {
   "cell_type": "code",
   "id": "initial_id",
   "metadata": {
    "collapsed": true,
    "ExecuteTime": {
     "end_time": "2024-11-02T16:17:35.161864Z",
     "start_time": "2024-11-02T16:17:35.154526Z"
    }
   },
   "source": [
    "from keyring.backends.macOS.api import create_query\n",
    "from neo4j import GraphDatabase\n",
    "import os\n",
    "from dotenv import load_dotenv\n",
    "load_dotenv()"
   ],
   "outputs": [
    {
     "data": {
      "text/plain": [
       "True"
      ]
     },
     "execution_count": 4,
     "metadata": {},
     "output_type": "execute_result"
    }
   ],
   "execution_count": 4
  },
  {
   "metadata": {
    "ExecuteTime": {
     "end_time": "2024-11-02T16:17:40.235303Z",
     "start_time": "2024-11-02T16:17:40.233295Z"
    }
   },
   "cell_type": "code",
   "source": [
    "# Define the Neo4j URI\n",
    "NEO4J_URI = \"bolt://localhost:7687\"\n",
    "\n",
    "# Retrieve the username and password from environment variables\n",
    "NEO4J_USER = os.environ.get(\"NEO4J_USER\")\n",
    "NEO4J_PASSWORD = os.environ.get(\"NEO4J_PASSWORD\")\n",
    "\n",
    "# Check if the credentials are available\n",
    "if not NEO4J_USER or not NEO4J_PASSWORD:\n",
    "    raise EnvironmentError(\"Please set the NEO4J_USER and NEO4J_PASSWORD environment variables.\")"
   ],
   "id": "7e72978b594ac927",
   "outputs": [],
   "execution_count": 5
  },
  {
   "metadata": {
    "ExecuteTime": {
     "end_time": "2024-11-02T16:17:53.068463Z",
     "start_time": "2024-11-02T16:17:53.066647Z"
    }
   },
   "cell_type": "code",
   "source": [
    "# Initialize the driver\n",
    "driver = GraphDatabase.driver(NEO4J_URI, auth=(NEO4J_USER, NEO4J_PASSWORD))"
   ],
   "id": "ae616d7d20ed3531",
   "outputs": [],
   "execution_count": 6
  },
  {
   "metadata": {
    "ExecuteTime": {
     "end_time": "2024-11-02T16:18:03.202990Z",
     "start_time": "2024-11-02T16:18:03.201020Z"
    }
   },
   "cell_type": "code",
   "source": [
    "# Function to run a Cypher query and return the results\n",
    "def run_query(query, parameters=None):\n",
    "    with driver.session() as session:\n",
    "        result = session.run(query, parameters)\n",
    "        return [record for record in result]"
   ],
   "id": "e1279a53127fee0a",
   "outputs": [],
   "execution_count": 7
  },
  {
   "metadata": {
    "ExecuteTime": {
     "end_time": "2024-11-02T19:08:13.263304Z",
     "start_time": "2024-11-02T19:08:13.256609Z"
    }
   },
   "cell_type": "code",
   "source": [
    "# # Cypher query to create nodes and a relationship\n",
    "# create_query = \"\"\"\n",
    "# MATCH (n {name: $name})-[r]->(m)\n",
    "# RETURN n, r, m\n",
    "# \"\"\"\n",
    "\n",
    "create_query = \"\"\"\n",
    "MATCH (n)\n",
    "return n\n",
    "\"\"\"\n",
    "\n",
    "# # Parameters for the query\n",
    "parameters = {\n",
    "    \"name\": \"digital wallet\",\n",
    "    # \"name2\": \"Bob\"\n",
    "}\n",
    "\n",
    "# Run the query\n",
    "temp = run_query(create_query, parameters)\n",
    "\n",
    "temp\n",
    "\n",
    "# Assuming `relationships` is a list of tuples or records returned from the Neo4j query\n",
    "# relationships = get_outgoing_relationships(\"digital wallet\")\n",
    "\n",
    "# Iterate over the relationships and print the desired format\n",
    "# for index, relationship in enumerate(temp):\n",
    "#     # Extract the relationship and its properties\n",
    "#     node, rel, target_node = relationship  # Adjust based on how your data is structured\n",
    "# \n",
    "#     # Assuming 'rel' has a property 'type' for the relationship name\n",
    "#     relationship_name = rel.type  # or rel['type'] if rel is a dictionary-like object\n",
    "#     target_node_name = target_node['name']  # Assuming target_node has a 'name' property\n",
    "# \n",
    "#     # Print the formatted string\n",
    "#     print(f\"Relationship {index} is for {relationship_name} with object {target_node_name}\")\n",
    "\n",
    "# print(\"Nodes and relationship created successfully.\")"
   ],
   "id": "c513bea15a1f5cb6",
   "outputs": [
    {
     "data": {
      "text/plain": [
       "[]"
      ]
     },
     "execution_count": 40,
     "metadata": {},
     "output_type": "execute_result"
    }
   ],
   "execution_count": 40
  },
  {
   "metadata": {},
   "cell_type": "code",
   "outputs": [],
   "execution_count": null,
   "source": "",
   "id": "7e1b1c5e32cdfc8c"
  }
 ],
 "metadata": {
  "kernelspec": {
   "display_name": "Python 3",
   "language": "python",
   "name": "python3"
  },
  "language_info": {
   "codemirror_mode": {
    "name": "ipython",
    "version": 2
   },
   "file_extension": ".py",
   "mimetype": "text/x-python",
   "name": "python",
   "nbconvert_exporter": "python",
   "pygments_lexer": "ipython2",
   "version": "2.7.6"
  }
 },
 "nbformat": 4,
 "nbformat_minor": 5
}
