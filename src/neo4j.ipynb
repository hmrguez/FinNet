{
 "cells": [
  {
   "cell_type": "code",
   "id": "initial_id",
   "metadata": {
    "collapsed": true,
    "ExecuteTime": {
     "end_time": "2024-11-02T16:17:35.161864Z",
     "start_time": "2024-11-02T16:17:35.154526Z"
    }
   },
   "source": [
    "from neo4j import GraphDatabase\n",
    "import os\n",
    "from dotenv import load_dotenv\n",
    "load_dotenv()"
   ],
   "outputs": [
    {
     "data": {
      "text/plain": [
       "True"
      ]
     },
     "execution_count": 4,
     "metadata": {},
     "output_type": "execute_result"
    }
   ],
   "execution_count": 4
  },
  {
   "metadata": {
    "ExecuteTime": {
     "end_time": "2024-11-02T16:17:40.235303Z",
     "start_time": "2024-11-02T16:17:40.233295Z"
    }
   },
   "cell_type": "code",
   "source": [
    "# Define the Neo4j URI\n",
    "NEO4J_URI = \"bolt://localhost:7687\"\n",
    "\n",
    "# Retrieve the username and password from environment variables\n",
    "NEO4J_USER = os.environ.get(\"NEO4J_USER\")\n",
    "NEO4J_PASSWORD = os.environ.get(\"NEO4J_PASSWORD\")\n",
    "\n",
    "# Check if the credentials are available\n",
    "if not NEO4J_USER or not NEO4J_PASSWORD:\n",
    "    raise EnvironmentError(\"Please set the NEO4J_USER and NEO4J_PASSWORD environment variables.\")"
   ],
   "id": "7e72978b594ac927",
   "outputs": [],
   "execution_count": 5
  },
  {
   "metadata": {
    "ExecuteTime": {
     "end_time": "2024-11-02T16:17:53.068463Z",
     "start_time": "2024-11-02T16:17:53.066647Z"
    }
   },
   "cell_type": "code",
   "source": [
    "# Initialize the driver\n",
    "driver = GraphDatabase.driver(NEO4J_URI, auth=(NEO4J_USER, NEO4J_PASSWORD))"
   ],
   "id": "ae616d7d20ed3531",
   "outputs": [],
   "execution_count": 6
  },
  {
   "metadata": {
    "ExecuteTime": {
     "end_time": "2024-11-02T16:18:03.202990Z",
     "start_time": "2024-11-02T16:18:03.201020Z"
    }
   },
   "cell_type": "code",
   "source": [
    "# Function to run a Cypher query and return the results\n",
    "def run_query(query, parameters=None):\n",
    "    with driver.session() as session:\n",
    "        result = session.run(query, parameters)\n",
    "        return [record for record in result]"
   ],
   "id": "e1279a53127fee0a",
   "outputs": [],
   "execution_count": 7
  },
  {
   "metadata": {
    "ExecuteTime": {
     "end_time": "2024-11-02T17:12:35.220394Z",
     "start_time": "2024-11-02T17:12:35.209297Z"
    }
   },
   "cell_type": "code",
   "source": [
    "# Cypher query to create nodes and a relationship\n",
    "create_query = \"\"\"\n",
    "MATCH (n)-[r:CAN_REVEAL]->(b)\n",
    "return n, b\n",
    "\"\"\"\n",
    "\n",
    "# # Parameters for the query\n",
    "# parameters = {\n",
    "#     \"name1\": \"Alice\",\n",
    "#     \"name2\": \"Bob\"\n",
    "# }\n",
    "\n",
    "# Run the query\n",
    "run_query(create_query, [])\n",
    "# print(\"Nodes and relationship created successfully.\")"
   ],
   "id": "c513bea15a1f5cb6",
   "outputs": [
    {
     "data": {
      "text/plain": [
       "[<Record n=<Node element_id='4:9875508c-816e-4478-99af-0fce068d1624:260' labels=frozenset({'Entity'}) properties={'name': 'major crises'}> b=<Node element_id='4:9875508c-816e-4478-99af-0fce068d1624:185' labels=frozenset({'Entity'}) properties={'name': 'holes in safety nets'}>>]"
      ]
     },
     "execution_count": 26,
     "metadata": {},
     "output_type": "execute_result"
    }
   ],
   "execution_count": 26
  },
  {
   "metadata": {},
   "cell_type": "code",
   "outputs": [],
   "execution_count": null,
   "source": "",
   "id": "7e1b1c5e32cdfc8c"
  }
 ],
 "metadata": {
  "kernelspec": {
   "display_name": "Python 3",
   "language": "python",
   "name": "python3"
  },
  "language_info": {
   "codemirror_mode": {
    "name": "ipython",
    "version": 2
   },
   "file_extension": ".py",
   "mimetype": "text/x-python",
   "name": "python",
   "nbconvert_exporter": "python",
   "pygments_lexer": "ipython2",
   "version": "2.7.6"
  }
 },
 "nbformat": 4,
 "nbformat_minor": 5
}
