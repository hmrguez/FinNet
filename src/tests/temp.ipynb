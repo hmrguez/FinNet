{
 "cells": [
  {
   "cell_type": "code",
   "id": "initial_id",
   "metadata": {
    "collapsed": true,
    "ExecuteTime": {
     "end_time": "2025-01-12T21:23:22.766866Z",
     "start_time": "2025-01-12T21:23:22.761224Z"
    }
   },
   "source": [
    "import json\n",
    "import re\n",
    "\n",
    "def find_first_number(string):\n",
    "    match = re.search(r'\\d+', string)\n",
    "    return int(match.group()) if match else None\n",
    "\n",
    "def calculate_averages(file_path):\n",
    "    with open(file_path, 'r') as file:\n",
    "        data = json.load(file)\n",
    "\n",
    "    total_rouge1_second = 0\n",
    "    total_rouge1_third = 0\n",
    "    total_rougeL_second = 0\n",
    "    total_rougeL_third = 0\n",
    "    total_time_spent = 0\n",
    "    gemini_scores = 0\n",
    "\n",
    "    for entry in data:\n",
    "        total_rouge1_second += entry['rouge_scores']['rouge1'][1]\n",
    "        total_rouge1_third += entry['rouge_scores']['rouge1'][2]\n",
    "        total_rougeL_second += entry['rouge_scores']['rougeL'][1]\n",
    "        total_rougeL_third += entry['rouge_scores']['rougeL'][2]\n",
    "        total_time_spent += entry['time_spent']\n",
    "        gemini_scores += find_first_number(entry['gemini_score'])\n",
    "\n",
    "    num_entries = len(data)\n",
    "    avg_rouge1_second = total_rouge1_second / num_entries\n",
    "    avg_rouge1_third = total_rouge1_third / num_entries\n",
    "    avg_rougeL_second = total_rougeL_second / num_entries\n",
    "    avg_rougeL_third = total_rougeL_third / num_entries\n",
    "    avg_time_spent = total_time_spent / num_entries\n",
    "    gemini_score = gemini_scores / num_entries\n",
    "\n",
    "    return {\n",
    "        'avg_rouge1_second': avg_rouge1_second,\n",
    "        'avg_rouge1_third': avg_rouge1_third,\n",
    "        'avg_rougeL_second': avg_rougeL_second,\n",
    "        'avg_rougeL_third': avg_rougeL_third,\n",
    "        'avg_time_spent': avg_time_spent,\n",
    "        'gemini_score': gemini_score\n",
    "    }\n",
    "\n",
    "# Example usage\n",
    "file_paths = ['results_rag.json', 'results_rag_text.json', 'results_advanced_gemini_2.0.json']\n",
    "for file_path in file_paths:\n",
    "    averages = calculate_averages(file_path)\n",
    "    print(f\"Averages for {file_path}: {averages}\")"
   ],
   "outputs": [
    {
     "name": "stdout",
     "output_type": "stream",
     "text": [
      "Averages for results_rag.json: {'avg_rouge1_second': 0.6553766685333686, 'avg_rouge1_third': 0.2121335173712743, 'avg_rougeL_second': 0.4732676575516205, 'avg_rougeL_third': 0.15335981670239016, 'avg_time_spent': 15.407271986007691, 'gemini_score': 4.48}\n",
      "Averages for results_rag_text.json: {'avg_rouge1_second': 0.6615814363069472, 'avg_rouge1_third': 0.22911665478069376, 'avg_rougeL_second': 0.46263807665251866, 'avg_rougeL_third': 0.16162015229484034, 'avg_time_spent': 15.621680946350098, 'gemini_score': 4.32}\n",
      "Averages for results_advanced_gemini_2.0.json: {'avg_rouge1_second': 0.891912930553278, 'avg_rouge1_third': 0.0838475764454364, 'avg_rougeL_second': 0.7449775089653987, 'avg_rougeL_third': 0.06937071776071554, 'avg_time_spent': 8.086044921875, 'gemini_score': 4.96}\n"
     ]
    }
   ],
   "execution_count": 3
  },
  {
   "metadata": {},
   "cell_type": "code",
   "outputs": [],
   "execution_count": null,
   "source": "0.6553766685333686",
   "id": "342cab5b8eb5664"
  }
 ],
 "metadata": {
  "kernelspec": {
   "display_name": "Python 3",
   "language": "python",
   "name": "python3"
  },
  "language_info": {
   "codemirror_mode": {
    "name": "ipython",
    "version": 2
   },
   "file_extension": ".py",
   "mimetype": "text/x-python",
   "name": "python",
   "nbconvert_exporter": "python",
   "pygments_lexer": "ipython2",
   "version": "2.7.6"
  }
 },
 "nbformat": 4,
 "nbformat_minor": 5
}
