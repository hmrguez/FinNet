{
 "cells": [
  {
   "metadata": {
    "ExecuteTime": {
     "end_time": "2024-11-29T16:18:57.838055Z",
     "start_time": "2024-11-29T16:18:57.833248Z"
    }
   },
   "cell_type": "code",
   "source": [
    "from expert_agent import ExpertAgent\n",
    "\n",
    "query = \"How are investors related with EFT?\"\n",
    "expert_fields = [\"personal finance\", \"economics\", \"investment\"]"
   ],
   "id": "e3d582b4fc95d438",
   "outputs": [],
   "execution_count": 1
  },
  {
   "metadata": {
    "ExecuteTime": {
     "end_time": "2024-11-29T16:18:58.247606Z",
     "start_time": "2024-11-29T16:18:58.244556Z"
    }
   },
   "cell_type": "code",
   "source": [
    "from src.langchain.agent_orchestrator import AgentOrchestrator\n",
    "\n",
    "agent_orchestrator = AgentOrchestrator(expert_fields)"
   ],
   "id": "d45b2f4b5f05f319",
   "outputs": [],
   "execution_count": 2
  },
  {
   "metadata": {
    "ExecuteTime": {
     "end_time": "2024-11-29T16:19:23.620485Z",
     "start_time": "2024-11-29T16:18:58.708054Z"
    }
   },
   "cell_type": "code",
   "source": "agent_orchestrator(query)",
   "id": "d6172773a27f2618",
   "outputs": [
    {
     "name": "stderr",
     "output_type": "stream",
     "text": [
      "[nltk_data] Downloading package punkt to /Users/hmrguez/nltk_data...\n",
      "[nltk_data]   Package punkt is already up-to-date!\n",
      "[nltk_data] Downloading package stopwords to\n",
      "[nltk_data]     /Users/hmrguez/nltk_data...\n",
      "[nltk_data]   Package stopwords is already up-to-date!\n"
     ]
    },
    {
     "data": {
      "text/plain": [
       "'Investors and Exchange-Traded Funds (ETFs) share a deeply symbiotic relationship, characterized by both opportunity and responsibility.  ETFs serve as a crucial investment vehicle for investors, offering several key advantages that make them a cornerstone of modern portfolios.\\n\\n**Key Advantages for Investors:**\\n\\n* **Diversification:** ETFs provide instant diversification across numerous asset classes (stocks, bonds, commodities), mitigating risk by spreading investments across various sectors.  This is especially beneficial for individuals with smaller portfolios or limited expertise.\\n\\n* **Accessibility and Affordability:**  Many ETFs have low expense ratios compared to actively managed mutual funds, increasing accessibility and making them cost-effective for a wide range of investors, including those with limited capital.\\n\\n* **Transparency:** The underlying holdings of ETFs are publicly disclosed, promoting transparency and informed decision-making.  This allows investors to conduct thorough due diligence.\\n\\n* **Liquidity:** ETFs trade on exchanges, offering intraday liquidity—a significant advantage over less liquid assets like real estate or private equity.\\n\\n* **Targeted Investing:**  The wide array of ETFs available caters to diverse investment strategies (value, growth, ESG) and risk tolerances, allowing investors to tailor their portfolios to specific financial goals.  This includes the potential for tax efficiency, with some ETFs generating lower capital gains distributions than mutual funds.\\n\\n**Risks and Considerations:**\\n\\nWhile offering numerous benefits, ETFs are not without risk:\\n\\n* **Market Risk:** ETFs are subject to market fluctuations, and even diversified ETFs can experience losses during downturns.\\n\\n* **Expense Ratios:** Although generally low, expense ratios still impact long-term returns, necessitating careful comparison across different ETFs.\\n\\n* **Tax Implications:**  Selling ETFs can trigger capital gains taxes, a factor to be considered within a broader tax and investment strategy.\\n\\n* **Suitability:** ETFs, while accessible, are not suitable for all investors.  Risk tolerance, investment timeline, and financial goals should be carefully evaluated before investing.  The need for an emergency fund highlights the importance of a holistic financial plan that extends beyond ETF investments alone.\\n\\n**The Strategic Role of ETFs:**\\n\\nThe relationship between investors and ETFs is strategic, not merely transactional.  Financial planners frequently integrate ETFs into client portfolios as a core component of asset allocation strategies, reflecting their flexibility in aligning with specific risk profiles, investment horizons, and financial objectives.  This highlights the importance of considering factors beyond simple returns, such as tax efficiency and long-term wealth building.\\n\\n**Conclusion:**\\n\\nETFs provide investors with efficient, accessible, and diversified investment tools, enhancing market efficiency and facilitating strategic financial planning.  However, responsible ETF investing requires a thorough understanding of inherent risks, alignment with broader financial goals, and potentially the guidance of financial professionals.  A holistic approach that considers diverse asset classes, a well-defined financial plan (including emergency funds), and professional advice is crucial for optimal investor outcomes.\\n'"
      ]
     },
     "execution_count": 3,
     "metadata": {},
     "output_type": "execute_result"
    }
   ],
   "execution_count": 3
  },
  {
   "metadata": {},
   "cell_type": "code",
   "outputs": [],
   "execution_count": null,
   "source": "",
   "id": "eaf6ee95e2ed288c"
  }
 ],
 "metadata": {
  "kernelspec": {
   "display_name": "Python 3",
   "language": "python",
   "name": "python3"
  },
  "language_info": {
   "codemirror_mode": {
    "name": "ipython",
    "version": 2
   },
   "file_extension": ".py",
   "mimetype": "text/x-python",
   "name": "python",
   "nbconvert_exporter": "python",
   "pygments_lexer": "ipython2",
   "version": "2.7.6"
  }
 },
 "nbformat": 4,
 "nbformat_minor": 5
}
