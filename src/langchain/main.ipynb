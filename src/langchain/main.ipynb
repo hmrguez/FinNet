{
 "cells": [
  {
   "cell_type": "code",
   "id": "initial_id",
   "metadata": {
    "collapsed": true,
    "ExecuteTime": {
     "end_time": "2024-11-29T15:36:47.283272Z",
     "start_time": "2024-11-29T15:36:38.453175Z"
    }
   },
   "source": [
    "from vector_search import search_graph\n",
    "from generation import AnswerGenerator\n",
    "from subgraph import SubgraphCreator"
   ],
   "outputs": [
    {
     "name": "stderr",
     "output_type": "stream",
     "text": [
      "[nltk_data] Downloading package punkt to /Users/hmrguez/nltk_data...\n",
      "[nltk_data]   Package punkt is already up-to-date!\n",
      "[nltk_data] Downloading package stopwords to\n",
      "[nltk_data]     /Users/hmrguez/nltk_data...\n",
      "[nltk_data]   Package stopwords is already up-to-date!\n"
     ]
    }
   ],
   "execution_count": 1
  },
  {
   "metadata": {
    "ExecuteTime": {
     "end_time": "2024-11-29T15:36:47.294180Z",
     "start_time": "2024-11-29T15:36:47.291194Z"
    }
   },
   "cell_type": "code",
   "source": "query = \"How are investors related with EFT?\"",
   "id": "e3d582b4fc95d438",
   "outputs": [],
   "execution_count": 2
  },
  {
   "metadata": {
    "ExecuteTime": {
     "end_time": "2024-11-29T15:36:47.958436Z",
     "start_time": "2024-11-29T15:36:47.412277Z"
    }
   },
   "cell_type": "code",
   "source": "nodes, edges = search_graph(query)",
   "id": "306d35ab3650c76d",
   "outputs": [],
   "execution_count": 3
  },
  {
   "metadata": {
    "ExecuteTime": {
     "end_time": "2024-11-29T15:36:49.477156Z",
     "start_time": "2024-11-29T15:36:49.437576Z"
    }
   },
   "cell_type": "code",
   "source": "subgraph_creator = SubgraphCreator()",
   "id": "500ecce76d595969",
   "outputs": [],
   "execution_count": 4
  },
  {
   "metadata": {
    "ExecuteTime": {
     "end_time": "2024-11-29T15:36:49.925016Z",
     "start_time": "2024-11-29T15:36:49.921513Z"
    }
   },
   "cell_type": "code",
   "source": "subgraph_data = subgraph_creator.get_subgraph(nodes, edges)",
   "id": "9252847984c8ddb6",
   "outputs": [],
   "execution_count": 5
  },
  {
   "metadata": {
    "ExecuteTime": {
     "end_time": "2024-11-29T15:36:50.667643Z",
     "start_time": "2024-11-29T15:36:50.661939Z"
    }
   },
   "cell_type": "code",
   "source": "subgraph_data",
   "id": "663ffb4610080ace",
   "outputs": [
    {
     "data": {
      "text/plain": [
       "{'nodes': [{'id': 'Styled Wealth'},\n",
       "  {'id': 'Financial_Crisis'},\n",
       "  {'id': 'Autumn Knutson'},\n",
       "  {'id': 'Investor'},\n",
       "  {'id': 'Strategic Financial Planning'},\n",
       "  {'id': 'David Tenerelli'},\n",
       "  {'id': 'Liberty Group'},\n",
       "  {'examples': 'Cash, stocks, bonds, real estate, family businesses.',\n",
       "   'id': 'Financial Assets'},\n",
       "  {'id': 'Investment Platforms'},\n",
       "  {'id': 'Emergency_Fund'},\n",
       "  {'id': 'Will Thomas'},\n",
       "  {'id': 'Exchange-Traded Funds'},\n",
       "  {'role': 'Individuals who may withdraw earned interest.',\n",
       "   'id': 'Investors'}],\n",
       " 'edges': [{'id': 6917578505664331921,\n",
       "   'type': 'FINANCIAL_PLANNER',\n",
       "   'source': 'Autumn Knutson',\n",
       "   'target': 'Styled Wealth'},\n",
       "  {'id': 1153055645025435933,\n",
       "   'type': 'SOURCE_OF_FUNDS',\n",
       "   'source': 'Emergency_Fund',\n",
       "   'target': 'Financial_Crisis'},\n",
       "  {'id': 6917578505664331919,\n",
       "   'type': 'FINANCIAL_PLANNER',\n",
       "   'source': 'David Tenerelli',\n",
       "   'target': 'Strategic Financial Planning'},\n",
       "  {'id': 6917578505664331920,\n",
       "   'type': 'FINANCIAL_PLANNER',\n",
       "   'source': 'Will Thomas',\n",
       "   'target': 'Liberty Group'}]}"
      ]
     },
     "execution_count": 6,
     "metadata": {},
     "output_type": "execute_result"
    }
   ],
   "execution_count": 6
  },
  {
   "metadata": {
    "ExecuteTime": {
     "end_time": "2024-11-29T15:36:52.160734Z",
     "start_time": "2024-11-29T15:36:52.157905Z"
    }
   },
   "cell_type": "code",
   "source": "financial_expert = AnswerGenerator.instance(\"finance\")",
   "id": "c6b757603ddf0109",
   "outputs": [],
   "execution_count": 7
  },
  {
   "metadata": {
    "ExecuteTime": {
     "end_time": "2024-11-29T15:36:58.467051Z",
     "start_time": "2024-11-29T15:36:52.741189Z"
    }
   },
   "cell_type": "code",
   "source": "answer = financial_expert(subgraph_data, query)",
   "id": "37cc3787afa37018",
   "outputs": [],
   "execution_count": 8
  },
  {
   "metadata": {
    "ExecuteTime": {
     "end_time": "2024-11-29T15:37:00.950680Z",
     "start_time": "2024-11-29T15:37:00.947868Z"
    }
   },
   "cell_type": "code",
   "source": "answer",
   "id": "c7a96e4bf2061448",
   "outputs": [
    {
     "data": {
      "text/plain": [
       "'Investors and Exchange-Traded Funds (ETFs) have a deeply intertwined relationship.  ETFs are a crucial investment vehicle for many investors, offering several key advantages.  From my perspective as a financial expert, the relationship is best understood through the following points:\\n\\n* **Accessibility and Diversification:** ETFs provide investors, regardless of their net worth, with instant access to diversified portfolios.  This is particularly beneficial for individual investors who may lack the resources or expertise to construct and manage a well-diversified portfolio of individual stocks or bonds.  A single ETF can track an index (like the S&P 500), a sector (like technology), or a specific investment strategy (like value investing), allowing for efficient diversification across various asset classes.\\n\\n* **Cost-Effectiveness:** ETFs generally have lower expense ratios than actively managed mutual funds, making them a more cost-effective investment option, especially for long-term investors. This lower cost directly translates to higher returns over time.\\n\\n* **Liquidity and Transparency:** ETFs trade on major exchanges like stocks, providing high liquidity.  Investors can buy and sell ETFs throughout the trading day at prevailing market prices, offering greater flexibility compared to mutual funds.  Moreover, their holdings are transparent, allowing investors to easily understand the underlying assets within the ETF.\\n\\n* **Strategic Investment Tool:**  ETFs are used by sophisticated investors as building blocks within broader investment strategies.  They may be integrated into strategic financial plans (as indicated by the data provided) to achieve specific investment objectives, such as generating income, capital appreciation, or hedging against specific market risks.  For example, a Strategic Financial Planner like David Tenerelli might utilize ETFs to build a portfolio tailored to a client\\'s risk tolerance and financial goals.\\n\\n* **Risk Management:**  While ETFs offer diversification, it\\'s crucial to remember that they still carry inherent market risk.  Investors should carefully consider their risk tolerance and diversify their ETF holdings across different asset classes and strategies to mitigate risk.  The presence of an \"Emergency Fund\" in the data highlights the importance of risk management and the need for a diversified, well-thought-out investment strategy that considers potential market downturns.\\n\\n\\nIn summary, the relationship between investors and ETFs is symbiotic. ETFs provide investors with a powerful and efficient tool for accessing and managing diversified portfolios, while investors drive the demand and liquidity that makes the ETF market thrive.  However, successful utilization requires investor understanding of their own risk profile and financial goals, along with careful consideration of the specific ETFs they choose to include in their portfolio.  The involvement of financial planners like those mentioned – Autumn Knutson, David Tenerelli, and Will Thomas – underscores the importance of professional guidance in navigating this complex landscape.\\n'"
      ]
     },
     "execution_count": 9,
     "metadata": {},
     "output_type": "execute_result"
    }
   ],
   "execution_count": 9
  },
  {
   "metadata": {},
   "cell_type": "code",
   "outputs": [],
   "execution_count": null,
   "source": "",
   "id": "d45b2f4b5f05f319"
  }
 ],
 "metadata": {
  "kernelspec": {
   "display_name": "Python 3",
   "language": "python",
   "name": "python3"
  },
  "language_info": {
   "codemirror_mode": {
    "name": "ipython",
    "version": 2
   },
   "file_extension": ".py",
   "mimetype": "text/x-python",
   "name": "python",
   "nbconvert_exporter": "python",
   "pygments_lexer": "ipython2",
   "version": "2.7.6"
  }
 },
 "nbformat": 4,
 "nbformat_minor": 5
}
